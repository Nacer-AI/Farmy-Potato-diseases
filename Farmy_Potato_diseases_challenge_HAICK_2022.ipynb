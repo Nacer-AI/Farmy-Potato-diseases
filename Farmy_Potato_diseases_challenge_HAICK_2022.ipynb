{
  "cells": [
    {
      "cell_type": "markdown",
      "metadata": {
        "id": "CTdGeO2-n8ZQ"
      },
      "source": [
        "### Step 2 - Make it in directory"
      ]
    },
    {
      "cell_type": "code",
      "source": [
        "!mkdir ./dataset/train"
      ],
      "metadata": {
        "id": "Vi9AQZ5U3yGw"
      },
      "execution_count": null,
      "outputs": []
    },
    {
      "cell_type": "code",
      "source": [
        "!mkdir ./dataset/train/healthy\n",
        "!mkdir ./dataset/train/late_blight\n",
        "!mkdir ./dataset/train/early_blight"
      ],
      "metadata": {
        "id": "VGsCevrB36PK"
      },
      "execution_count": null,
      "outputs": []
    },
    {
      "cell_type": "code",
      "source": [
        "!cp ./potato/Africa_dataset/Africa/Potato___healthy/. ./dataset/train/healthy/ -r"
      ],
      "metadata": {
        "id": "WCBIvqL-4VKw"
      },
      "execution_count": null,
      "outputs": []
    },
    {
      "cell_type": "code",
      "source": [
        "!cp ./potato/Africa_dataset/Africa/Potato___Late_blight/. ./dataset/train/late_blight/ -r"
      ],
      "metadata": {
        "id": "JXhaSV-T4-el"
      },
      "execution_count": null,
      "outputs": []
    },
    {
      "cell_type": "code",
      "source": [
        "!cp ./potato/Peru_dataset/Peru/Potato___Late_blight/. ./dataset/train/late_blight/ -r\n",
        "!cp ./potato/Peru_dataset/Peru/Potato___Early_blight/. ./dataset/train/early_blight/ -r\n",
        "!cp ./potato/Peru_dataset/Peru/Potato___healthy/. ./dataset/train/healthy/ -r"
      ],
      "metadata": {
        "id": "tUOFX7CO5KCm"
      },
      "execution_count": null,
      "outputs": []
    },
    {
      "cell_type": "code",
      "source": [
        "!cp ./potato/internet_dataset/potato_test_1_Corriger/Potato___Late_blight/. ./dataset/train/late_blight/ -r\n",
        "!cp ./potato/internet_dataset/potato_test_1_Corriger/Potato___Early_blight/. ./dataset/train/early_blight/ -r\n",
        "!cp ./potato/internet_dataset/potato_test_1_Corriger/Potato___healthy/. ./dataset/train/healthy/ -r"
      ],
      "metadata": {
        "id": "TqRUXXl45zCL"
      },
      "execution_count": null,
      "outputs": []
    },
    {
      "cell_type": "code",
      "source": [
        "!cp \"./potato_int/Late Blight/.\" ./dataset/train/late_blight/ -r\n",
        "!cp ./potato_int/Healthy/. ./dataset/train/healthy/ -r"
      ],
      "metadata": {
        "id": "rO5YW31whnVM"
      },
      "execution_count": null,
      "outputs": []
    },
    {
      "cell_type": "markdown",
      "metadata": {
        "id": "P4CEUUELy1yb"
      },
      "source": [
        "## 2.2 - Pre-Process Photos into Standard Directories"
      ]
    },
    {
      "cell_type": "code",
      "source": [
        "from keras.preprocessing.image import ImageDataGenerator\n",
        "import keras\n",
        "\n",
        "train_datagen = ImageDataGenerator ( rescale =1./255 ,\n",
        "shear_range =0.2 ,\n",
        "zoom_range =0.2 ,\n",
        "horizontal_flip = True ,\n",
        "validation_split =0.2) # set validation split\n",
        "\n",
        "train_generator = train_datagen.flow_from_directory (\n",
        "\"/content/dataset/train\",# dataset path in drive\n",
        "target_size = (300 , 300) ,\n",
        "color_mode =\"grayscale\",\n",
        "shuffle = True ,\n",
        "batch_size =32 ,\n",
        "class_mode =\"categorical\",\n",
        "subset =\"training\") # set as training data\n",
        "\n",
        "validation_generator = train_datagen . flow_from_directory (\n",
        "r\"./dataset/train\", # dataset path in drive\n",
        "target_size = (300 , 300) ,\n",
        "color_mode =\"grayscale\",\n",
        "batch_size =32 ,\n",
        "shuffle = True ,\n",
        "class_mode =\"categorical\",\n",
        "subset =\"validation\") # set as validation data"
      ],
      "metadata": {
        "id": "vDVkgXBmEwQJ",
        "colab": {
          "base_uri": "https://localhost:8080/"
        },
        "outputId": "120ca8b6-650c-4d90-9eae-27543f486fa3"
      },
      "execution_count": null,
      "outputs": [
        {
          "output_type": "stream",
          "name": "stdout",
          "text": [
            "Found 853 images belonging to 3 classes.\n",
            "Found 211 images belonging to 3 classes.\n"
          ]
        }
      ]
    },
    {
      "cell_type": "markdown",
      "metadata": {
        "id": "oxFVRfAdN5Ro"
      },
      "source": [
        "# 3 - Develop a Baseline CNN Model"
      ]
    },
    {
      "cell_type": "code",
      "source": [
        "import tensorflow as tf"
      ],
      "metadata": {
        "id": "y_Am44z7Lmu8"
      },
      "execution_count": null,
      "outputs": []
    },
    {
      "cell_type": "code",
      "source": [
        "model = tf.keras.models.Sequential([\n",
        "    # Note the input shape is the desired size of the image 300x300 with 3 bytes color\n",
        "    # This is the first convolution\n",
        "    tf.keras.layers.Conv2D(64, (3,3), activation='relu', input_shape=(300, 300, 1)),\n",
        "    tf.keras.layers.MaxPooling2D(2, 2),\n",
        "    # The second convolution\n",
        "    tf.keras.layers.Conv2D(32, (3,3), activation='relu'),\n",
        "    tf.keras.layers.MaxPooling2D(2,2),\n",
        "    # The third convolution\n",
        "    tf.keras.layers.Conv2D(16, (3,3), activation='relu'),\n",
        "    tf.keras.layers.MaxPooling2D(2,2),\n",
        "    # The fourth convolution\n",
        "    # Flatten the results to feed into a DNN\n",
        "    tf.keras.layers.Flatten(),\n",
        "    # 512 neuron hidden layer\n",
        "    tf.keras.layers.Dense(512, activation='relu'),\n",
        "    tf.keras.layers.Dense(256, activation='relu'),\n",
        "    tf.keras.layers.Dense(128, activation='relu'),\n",
        "    # Only 1 output neuron. It will contain a value from 0-1 where 0 for 1 class ('horses') and 1 for the other ('humans')\n",
        "    tf.keras.layers.Dense(3, activation='softmax')\n",
        "])"
      ],
      "metadata": {
        "id": "aRAjy5JdLmu8"
      },
      "execution_count": null,
      "outputs": []
    },
    {
      "cell_type": "code",
      "source": [
        "model.summary()\n"
      ],
      "metadata": {
        "colab": {
          "base_uri": "https://localhost:8080/"
        },
        "id": "Thl3TF-ZLmu8",
        "outputId": "b6bbbe90-190f-4fb5-af3e-d8a03fb7d06f"
      },
      "execution_count": null,
      "outputs": [
        {
          "output_type": "stream",
          "name": "stdout",
          "text": [
            "Model: \"sequential\"\n",
            "_________________________________________________________________\n",
            " Layer (type)                Output Shape              Param #   \n",
            "=================================================================\n",
            " conv2d (Conv2D)             (None, 298, 298, 64)      640       \n",
            "                                                                 \n",
            " max_pooling2d (MaxPooling2D  (None, 149, 149, 64)     0         \n",
            " )                                                               \n",
            "                                                                 \n",
            " conv2d_1 (Conv2D)           (None, 147, 147, 32)      18464     \n",
            "                                                                 \n",
            " max_pooling2d_1 (MaxPooling  (None, 73, 73, 32)       0         \n",
            " 2D)                                                             \n",
            "                                                                 \n",
            " conv2d_2 (Conv2D)           (None, 71, 71, 16)        4624      \n",
            "                                                                 \n",
            " max_pooling2d_2 (MaxPooling  (None, 35, 35, 16)       0         \n",
            " 2D)                                                             \n",
            "                                                                 \n",
            " flatten (Flatten)           (None, 19600)             0         \n",
            "                                                                 \n",
            " dense (Dense)               (None, 512)               10035712  \n",
            "                                                                 \n",
            " dense_1 (Dense)             (None, 256)               131328    \n",
            "                                                                 \n",
            " dense_2 (Dense)             (None, 128)               32896     \n",
            "                                                                 \n",
            " dense_3 (Dense)             (None, 3)                 387       \n",
            "                                                                 \n",
            "=================================================================\n",
            "Total params: 10,224,051\n",
            "Trainable params: 10,224,051\n",
            "Non-trainable params: 0\n",
            "_________________________________________________________________\n"
          ]
        }
      ]
    },
    {
      "cell_type": "code",
      "source": [
        "class myCallback(tf.keras.callbacks.Callback):\n",
        "  def on_epoch_end(self, epoch, logs={}):\n",
        "    if(logs.get('accuracy') >= 0.9): # Experiment with changing this value\n",
        "      print(\"\\nReached 90% accuracy so cancelling training!\")\n",
        "      self.model.stop_training = True\n",
        "callbacks = myCallback()      \n",
        "\n",
        "\n",
        "model.compile(loss='categorical_crossentropy',\n",
        "              optimizer=\"adam\",\n",
        "              metrics=['accuracy'])\n",
        "\n"
      ],
      "metadata": {
        "id": "ZqYJxRjpLmu9"
      },
      "execution_count": null,
      "outputs": []
    },
    {
      "cell_type": "code",
      "source": [
        "history = model.fit(\n",
        "      train_generator,\n",
        "\n",
        "      batch_size=10,  \n",
        "      epochs=25,\n",
        "      verbose=1)"
      ],
      "metadata": {
        "colab": {
          "base_uri": "https://localhost:8080/"
        },
        "id": "IFhDjAsBNYEZ",
        "outputId": "d62da7df-adb1-4439-f5b3-087516b3e122"
      },
      "execution_count": null,
      "outputs": [
        {
          "output_type": "stream",
          "name": "stdout",
          "text": [
            "Epoch 1/25\n",
            "27/27 [==============================] - 86s 3s/step - loss: 1.0532 - accuracy: 0.4502\n",
            "Epoch 2/25\n",
            "27/27 [==============================] - 72s 3s/step - loss: 1.0185 - accuracy: 0.4678\n",
            "Epoch 3/25\n",
            "27/27 [==============================] - 72s 3s/step - loss: 0.9631 - accuracy: 0.5275\n",
            "Epoch 4/25\n",
            "27/27 [==============================] - 73s 3s/step - loss: 0.8759 - accuracy: 0.5909\n",
            "Epoch 5/25\n",
            "27/27 [==============================] - 72s 3s/step - loss: 0.8329 - accuracy: 0.6155\n",
            "Epoch 6/25\n",
            "27/27 [==============================] - 72s 3s/step - loss: 0.7916 - accuracy: 0.6401\n",
            "Epoch 7/25\n",
            "27/27 [==============================] - 73s 3s/step - loss: 0.7506 - accuracy: 0.6811\n",
            "Epoch 8/25\n",
            "27/27 [==============================] - 72s 3s/step - loss: 0.7020 - accuracy: 0.6999\n",
            "Epoch 9/25\n",
            "27/27 [==============================] - 74s 3s/step - loss: 0.6690 - accuracy: 0.7104\n",
            "Epoch 10/25\n",
            "27/27 [==============================] - 73s 3s/step - loss: 0.6239 - accuracy: 0.7573\n",
            "Epoch 11/25\n",
            "27/27 [==============================] - 74s 3s/step - loss: 0.6002 - accuracy: 0.7667\n",
            "Epoch 12/25\n",
            "27/27 [==============================] - 73s 3s/step - loss: 0.5611 - accuracy: 0.7878\n",
            "Epoch 13/25\n",
            "27/27 [==============================] - 77s 3s/step - loss: 0.5315 - accuracy: 0.7948\n",
            "Epoch 14/25\n",
            "27/27 [==============================] - 76s 3s/step - loss: 0.4717 - accuracy: 0.8124\n",
            "Epoch 15/25\n",
            "27/27 [==============================] - 73s 3s/step - loss: 0.4656 - accuracy: 0.8230\n",
            "Epoch 16/25\n",
            "27/27 [==============================] - 72s 3s/step - loss: 0.4161 - accuracy: 0.8359\n",
            "Epoch 17/25\n",
            "27/27 [==============================] - 73s 3s/step - loss: 0.3903 - accuracy: 0.8593\n",
            "Epoch 18/25\n",
            "27/27 [==============================] - 73s 3s/step - loss: 0.3571 - accuracy: 0.8746\n",
            "Epoch 19/25\n",
            "27/27 [==============================] - 73s 3s/step - loss: 0.3850 - accuracy: 0.8628\n",
            "Epoch 20/25\n",
            "27/27 [==============================] - 73s 3s/step - loss: 0.3418 - accuracy: 0.8710\n",
            "Epoch 21/25\n",
            "27/27 [==============================] - 71s 3s/step - loss: 0.3147 - accuracy: 0.8804\n",
            "Epoch 22/25\n",
            "27/27 [==============================] - 71s 3s/step - loss: 0.2790 - accuracy: 0.8980\n",
            "Epoch 23/25\n",
            "27/27 [==============================] - 73s 3s/step - loss: 0.2431 - accuracy: 0.9144\n",
            "Epoch 24/25\n",
            "27/27 [==============================] - 73s 3s/step - loss: 0.2142 - accuracy: 0.9215\n",
            "Epoch 25/25\n",
            "27/27 [==============================] - 73s 3s/step - loss: 0.2466 - accuracy: 0.9109\n"
          ]
        }
      ]
    },
    {
      "cell_type": "code",
      "source": [
        "model.evaluate(\n",
        "        validation_generator,\n",
        "        verbose=1\n",
        "    )"
      ],
      "metadata": {
        "colab": {
          "base_uri": "https://localhost:8080/"
        },
        "id": "O6Je0GQcOkI9",
        "outputId": "165ea9f5-fb41-4458-bdc1-dd2f90f37c26"
      },
      "execution_count": null,
      "outputs": [
        {
          "output_type": "stream",
          "name": "stdout",
          "text": [
            "7/7 [==============================] - 21s 3s/step - loss: 0.9687 - accuracy: 0.7014\n"
          ]
        },
        {
          "output_type": "execute_result",
          "data": {
            "text/plain": [
              "[0.968728244304657, 0.7014217972755432]"
            ]
          },
          "metadata": {},
          "execution_count": 21
        }
      ]
    },
    {
      "cell_type": "markdown",
      "source": [
        "#submit model"
      ],
      "metadata": {
        "id": "2rZALTiNRUu4"
      }
    },
    {
      "cell_type": "code",
      "source": [
        "\n",
        "test_real_datagen = ImageDataGenerator (rescale =1./255 ,) # set validation split\n",
        "\n",
        "test_real_generator = test_real_datagen.flow_from_directory(\n",
        "  \"/content/potato/Farmy_test/\",# dataset path in drive\n",
        "  target_size = (300 , 300),\n",
        "  color_mode =\"grayscale\",\n",
        "  shuffle = True,\n",
        "  batch_size =32,\n",
        "  class_mode =None,\n",
        ") # set as training data"
      ],
      "metadata": {
        "colab": {
          "base_uri": "https://localhost:8080/"
        },
        "id": "WaXmYY7RRvnM",
        "outputId": "226f0db1-8064-4682-eb10-cf2ee6a60bdf"
      },
      "execution_count": null,
      "outputs": [
        {
          "output_type": "stream",
          "name": "stdout",
          "text": [
            "Found 224 images belonging to 1 classes.\n"
          ]
        }
      ]
    },
    {
      "cell_type": "code",
      "source": [
        "predictions= model.predict(\n",
        "        test_real_generator,\n",
        "        verbose=1\n",
        "    )"
      ],
      "metadata": {
        "colab": {
          "base_uri": "https://localhost:8080/"
        },
        "id": "H0B2QpXYTIjJ",
        "outputId": "84784faa-753c-4fc4-ef06-8375bf65f545"
      },
      "execution_count": null,
      "outputs": [
        {
          "output_type": "stream",
          "name": "stdout",
          "text": [
            "7/7 [==============================] - 6s 815ms/step\n"
          ]
        }
      ]
    },
    {
      "cell_type": "code",
      "source": [
        "len(predictions)"
      ],
      "metadata": {
        "colab": {
          "base_uri": "https://localhost:8080/"
        },
        "id": "rPBtPLysTypa",
        "outputId": "06d5e3b2-07a4-4af3-df2c-cf57d7904261"
      },
      "execution_count": null,
      "outputs": [
        {
          "output_type": "execute_result",
          "data": {
            "text/plain": [
              "224"
            ]
          },
          "metadata": {},
          "execution_count": 46
        }
      ]
    },
    {
      "cell_type": "code",
      "source": [
        "import numpy as np\n",
        "\n",
        "predictions[1]\n",
        "\n"
      ],
      "metadata": {
        "colab": {
          "base_uri": "https://localhost:8080/"
        },
        "id": "jwsZ1V1rVi1g",
        "outputId": "7a4afe3b-dab7-4910-9e65-0ac53d3a450b"
      },
      "execution_count": null,
      "outputs": [
        {
          "output_type": "execute_result",
          "data": {
            "text/plain": [
              "array([0.39574876, 0.4137109 , 0.19054033], dtype=float32)"
            ]
          },
          "metadata": {},
          "execution_count": 24
        }
      ]
    },
    {
      "cell_type": "code",
      "source": [
        "np.argmax(predictions[1])"
      ],
      "metadata": {
        "colab": {
          "base_uri": "https://localhost:8080/"
        },
        "id": "wJ5sGZ4iWx-f",
        "outputId": "8bc19ecd-9f56-4454-f90a-213ea97cd093"
      },
      "execution_count": null,
      "outputs": [
        {
          "output_type": "execute_result",
          "data": {
            "text/plain": [
              "2"
            ]
          },
          "metadata": {},
          "execution_count": 62
        }
      ]
    },
    {
      "cell_type": "code",
      "source": [
        "train_generator.class_indices"
      ],
      "metadata": {
        "colab": {
          "base_uri": "https://localhost:8080/"
        },
        "id": "7VbK2XTsX5OU",
        "outputId": "c878597a-8c6f-4883-f331-91ece077f07b"
      },
      "execution_count": null,
      "outputs": [
        {
          "output_type": "execute_result",
          "data": {
            "text/plain": [
              "{'early_blight': 0, 'healthy': 1, 'late_blight': 2}"
            ]
          },
          "metadata": {},
          "execution_count": 66
        }
      ]
    },
    {
      "cell_type": "code",
      "source": [
        "list(train_generator.class_indices.keys())[list(train_generator.class_indices.values()).index(0)].replace('_',' ')\n"
      ],
      "metadata": {
        "colab": {
          "base_uri": "https://localhost:8080/",
          "height": 35
        },
        "id": "esWQrdxjW_LF",
        "outputId": "3a2e74f6-5b92-4707-b547-c600cce0590d"
      },
      "execution_count": null,
      "outputs": [
        {
          "output_type": "execute_result",
          "data": {
            "text/plain": [
              "'early blight'"
            ],
            "application/vnd.google.colaboratory.intrinsic+json": {
              "type": "string"
            }
          },
          "metadata": {},
          "execution_count": 69
        }
      ]
    },
    {
      "cell_type": "code",
      "source": [
        "import pandas as pd\n",
        "\n",
        "df=pd.DataFrame(columns=['image','Classification target'])\n",
        "\n",
        "for i in range(224):\n",
        "  df=df.append({'image':test_real_generator.filenames[i].replace('farmy/',''),\n",
        "                'Classification target':list(train_generator.class_indices.keys())[list(train_generator.class_indices.values()).index(np.argmax(predictions[i]))].replace('_',' ')\n",
        "                },ignore_index=True)\n",
        "\n"
      ],
      "metadata": {
        "id": "dCVCpMS6RKm3"
      },
      "execution_count": null,
      "outputs": []
    },
    {
      "cell_type": "code",
      "source": [
        "df"
      ],
      "metadata": {
        "colab": {
          "base_uri": "https://localhost:8080/",
          "height": 423
        },
        "id": "SGnJqc4kU7mX",
        "outputId": "d8fec3cf-8724-4f6e-cdd2-0eb43c4b979e"
      },
      "execution_count": null,
      "outputs": [
        {
          "output_type": "execute_result",
          "data": {
            "text/plain": [
              "                                             image Classification target\n",
              "0    01126e2630b15e7e3a0a26869d47ed477e0b7f6c.jpeg           late blight\n",
              "1    01a83bd0e39561fc090a2dd8f090e15866ddff7d.jpeg               healthy\n",
              "2    024f92e0e4991f95835d994e7cdc68545fa643c5.jpeg               healthy\n",
              "3    0571a2fd5825c2b5da83b96bec5da285cbab79b8.jpeg               healthy\n",
              "4    06b15764355d627b366c4ff5dae2ecd89a9d79fc.jpeg               healthy\n",
              "..                                             ...                   ...\n",
              "219  fb981715bba6c68931052a5c576809750786bb52.jpeg               healthy\n",
              "220  fd6faa4f69ad7b5f5db5006863b356d2897ff0e3.jpeg               healthy\n",
              "221  fe5e25797e6fe7f20d2cfdc4873d75ee169c1196.jpeg           late blight\n",
              "222  ff2abe3fe17feb5da8fef7193b999e3078619671.jpeg               healthy\n",
              "223  ffba6e52b61fbd3cb264f856e1d00e6fa8c045f8.jpeg               healthy\n",
              "\n",
              "[224 rows x 2 columns]"
            ],
            "text/html": [
              "\n",
              "  <div id=\"df-d3b95c08-98ae-4033-97fd-75cab0a67524\">\n",
              "    <div class=\"colab-df-container\">\n",
              "      <div>\n",
              "<style scoped>\n",
              "    .dataframe tbody tr th:only-of-type {\n",
              "        vertical-align: middle;\n",
              "    }\n",
              "\n",
              "    .dataframe tbody tr th {\n",
              "        vertical-align: top;\n",
              "    }\n",
              "\n",
              "    .dataframe thead th {\n",
              "        text-align: right;\n",
              "    }\n",
              "</style>\n",
              "<table border=\"1\" class=\"dataframe\">\n",
              "  <thead>\n",
              "    <tr style=\"text-align: right;\">\n",
              "      <th></th>\n",
              "      <th>image</th>\n",
              "      <th>Classification target</th>\n",
              "    </tr>\n",
              "  </thead>\n",
              "  <tbody>\n",
              "    <tr>\n",
              "      <th>0</th>\n",
              "      <td>01126e2630b15e7e3a0a26869d47ed477e0b7f6c.jpeg</td>\n",
              "      <td>late blight</td>\n",
              "    </tr>\n",
              "    <tr>\n",
              "      <th>1</th>\n",
              "      <td>01a83bd0e39561fc090a2dd8f090e15866ddff7d.jpeg</td>\n",
              "      <td>healthy</td>\n",
              "    </tr>\n",
              "    <tr>\n",
              "      <th>2</th>\n",
              "      <td>024f92e0e4991f95835d994e7cdc68545fa643c5.jpeg</td>\n",
              "      <td>healthy</td>\n",
              "    </tr>\n",
              "    <tr>\n",
              "      <th>3</th>\n",
              "      <td>0571a2fd5825c2b5da83b96bec5da285cbab79b8.jpeg</td>\n",
              "      <td>healthy</td>\n",
              "    </tr>\n",
              "    <tr>\n",
              "      <th>4</th>\n",
              "      <td>06b15764355d627b366c4ff5dae2ecd89a9d79fc.jpeg</td>\n",
              "      <td>healthy</td>\n",
              "    </tr>\n",
              "    <tr>\n",
              "      <th>...</th>\n",
              "      <td>...</td>\n",
              "      <td>...</td>\n",
              "    </tr>\n",
              "    <tr>\n",
              "      <th>219</th>\n",
              "      <td>fb981715bba6c68931052a5c576809750786bb52.jpeg</td>\n",
              "      <td>healthy</td>\n",
              "    </tr>\n",
              "    <tr>\n",
              "      <th>220</th>\n",
              "      <td>fd6faa4f69ad7b5f5db5006863b356d2897ff0e3.jpeg</td>\n",
              "      <td>healthy</td>\n",
              "    </tr>\n",
              "    <tr>\n",
              "      <th>221</th>\n",
              "      <td>fe5e25797e6fe7f20d2cfdc4873d75ee169c1196.jpeg</td>\n",
              "      <td>late blight</td>\n",
              "    </tr>\n",
              "    <tr>\n",
              "      <th>222</th>\n",
              "      <td>ff2abe3fe17feb5da8fef7193b999e3078619671.jpeg</td>\n",
              "      <td>healthy</td>\n",
              "    </tr>\n",
              "    <tr>\n",
              "      <th>223</th>\n",
              "      <td>ffba6e52b61fbd3cb264f856e1d00e6fa8c045f8.jpeg</td>\n",
              "      <td>healthy</td>\n",
              "    </tr>\n",
              "  </tbody>\n",
              "</table>\n",
              "<p>224 rows × 2 columns</p>\n",
              "</div>\n",
              "      <button class=\"colab-df-convert\" onclick=\"convertToInteractive('df-d3b95c08-98ae-4033-97fd-75cab0a67524')\"\n",
              "              title=\"Convert this dataframe to an interactive table.\"\n",
              "              style=\"display:none;\">\n",
              "        \n",
              "  <svg xmlns=\"http://www.w3.org/2000/svg\" height=\"24px\"viewBox=\"0 0 24 24\"\n",
              "       width=\"24px\">\n",
              "    <path d=\"M0 0h24v24H0V0z\" fill=\"none\"/>\n",
              "    <path d=\"M18.56 5.44l.94 2.06.94-2.06 2.06-.94-2.06-.94-.94-2.06-.94 2.06-2.06.94zm-11 1L8.5 8.5l.94-2.06 2.06-.94-2.06-.94L8.5 2.5l-.94 2.06-2.06.94zm10 10l.94 2.06.94-2.06 2.06-.94-2.06-.94-.94-2.06-.94 2.06-2.06.94z\"/><path d=\"M17.41 7.96l-1.37-1.37c-.4-.4-.92-.59-1.43-.59-.52 0-1.04.2-1.43.59L10.3 9.45l-7.72 7.72c-.78.78-.78 2.05 0 2.83L4 21.41c.39.39.9.59 1.41.59.51 0 1.02-.2 1.41-.59l7.78-7.78 2.81-2.81c.8-.78.8-2.07 0-2.86zM5.41 20L4 18.59l7.72-7.72 1.47 1.35L5.41 20z\"/>\n",
              "  </svg>\n",
              "      </button>\n",
              "      \n",
              "  <style>\n",
              "    .colab-df-container {\n",
              "      display:flex;\n",
              "      flex-wrap:wrap;\n",
              "      gap: 12px;\n",
              "    }\n",
              "\n",
              "    .colab-df-convert {\n",
              "      background-color: #E8F0FE;\n",
              "      border: none;\n",
              "      border-radius: 50%;\n",
              "      cursor: pointer;\n",
              "      display: none;\n",
              "      fill: #1967D2;\n",
              "      height: 32px;\n",
              "      padding: 0 0 0 0;\n",
              "      width: 32px;\n",
              "    }\n",
              "\n",
              "    .colab-df-convert:hover {\n",
              "      background-color: #E2EBFA;\n",
              "      box-shadow: 0px 1px 2px rgba(60, 64, 67, 0.3), 0px 1px 3px 1px rgba(60, 64, 67, 0.15);\n",
              "      fill: #174EA6;\n",
              "    }\n",
              "\n",
              "    [theme=dark] .colab-df-convert {\n",
              "      background-color: #3B4455;\n",
              "      fill: #D2E3FC;\n",
              "    }\n",
              "\n",
              "    [theme=dark] .colab-df-convert:hover {\n",
              "      background-color: #434B5C;\n",
              "      box-shadow: 0px 1px 3px 1px rgba(0, 0, 0, 0.15);\n",
              "      filter: drop-shadow(0px 1px 2px rgba(0, 0, 0, 0.3));\n",
              "      fill: #FFFFFF;\n",
              "    }\n",
              "  </style>\n",
              "\n",
              "      <script>\n",
              "        const buttonEl =\n",
              "          document.querySelector('#df-d3b95c08-98ae-4033-97fd-75cab0a67524 button.colab-df-convert');\n",
              "        buttonEl.style.display =\n",
              "          google.colab.kernel.accessAllowed ? 'block' : 'none';\n",
              "\n",
              "        async function convertToInteractive(key) {\n",
              "          const element = document.querySelector('#df-d3b95c08-98ae-4033-97fd-75cab0a67524');\n",
              "          const dataTable =\n",
              "            await google.colab.kernel.invokeFunction('convertToInteractive',\n",
              "                                                     [key], {});\n",
              "          if (!dataTable) return;\n",
              "\n",
              "          const docLinkHtml = 'Like what you see? Visit the ' +\n",
              "            '<a target=\"_blank\" href=https://colab.research.google.com/notebooks/data_table.ipynb>data table notebook</a>'\n",
              "            + ' to learn more about interactive tables.';\n",
              "          element.innerHTML = '';\n",
              "          dataTable['output_type'] = 'display_data';\n",
              "          await google.colab.output.renderOutput(dataTable, element);\n",
              "          const docLink = document.createElement('div');\n",
              "          docLink.innerHTML = docLinkHtml;\n",
              "          element.appendChild(docLink);\n",
              "        }\n",
              "      </script>\n",
              "    </div>\n",
              "  </div>\n",
              "  "
            ]
          },
          "metadata": {},
          "execution_count": 26
        }
      ]
    },
    {
      "cell_type": "code",
      "source": [
        "import calendar\n",
        "import time\n",
        "ts=calendar.timegm(time.gmtime())"
      ],
      "metadata": {
        "id": "AdNI8729ZHCV"
      },
      "execution_count": null,
      "outputs": []
    },
    {
      "cell_type": "code",
      "source": [
        "df.to_csv(str(ts)+'_results.csv',index=False)"
      ],
      "metadata": {
        "id": "1MV3muC7YrEe"
      },
      "execution_count": null,
      "outputs": []
    }
  ],
  "metadata": {
    "colab": {
      "collapsed_sections": [],
      "name": "Farmy Potato diseases challenge - HAICK 2022.ipynb",
      "provenance": []
    },
    "kernelspec": {
      "display_name": "Python 3",
      "name": "python3"
    },
    "language_info": {
      "name": "python"
    },
    "accelerator": "GPU"
  },
  "nbformat": 4,
  "nbformat_minor": 0
}